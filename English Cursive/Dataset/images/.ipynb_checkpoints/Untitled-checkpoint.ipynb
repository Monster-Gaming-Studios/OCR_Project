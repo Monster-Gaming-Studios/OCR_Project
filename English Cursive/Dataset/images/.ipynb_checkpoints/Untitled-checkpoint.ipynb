{
 "cells": [
  {
   "cell_type": "code",
   "execution_count": null,
   "metadata": {
    "slideshow": {
     "slide_type": "slide"
    }
   },
   "outputs": [],
   "source": [
    "import os\n",
    "import cv2\n",
    "\n",
    "a = 1\n",
    "\n",
    "for file in os.listdir(os.getcwd()):\n",
    "    if file.endswith('.jpg'):\n",
    "        img = cv2.imread(file)\n",
    "        os.remove(file)\n",
    "        \n",
    "        if a < 10:\n",
    "            f = '000' + str(a) + '.jpg'\n",
    "            cv2.imwrite(f, img)\n",
    "            print('Replaced:' + file + '   with:' + f)\n",
    "            a += 1\n",
    "        else:\n",
    "            f = '00' + str(a) + '.jpg'\n",
    "            cv2.imwrite(f, img)\n",
    "            print('Replaced:' + file + '   with:' + f)\n",
    "            a += 1"
   ]
  },
  {
   "cell_type": "code",
   "execution_count": null,
   "metadata": {},
   "outputs": [],
   "source": []
  }
 ],
 "metadata": {
  "kernelspec": {
   "display_name": "Python 3",
   "language": "python",
   "name": "python3"
  },
  "language_info": {
   "codemirror_mode": {
    "name": "ipython",
    "version": 3
   },
   "file_extension": ".py",
   "mimetype": "text/x-python",
   "name": "python",
   "nbconvert_exporter": "python",
   "pygments_lexer": "ipython3",
   "version": "3.7.4"
  }
 },
 "nbformat": 4,
 "nbformat_minor": 4
}
